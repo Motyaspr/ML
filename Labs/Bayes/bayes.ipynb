{
 "cells": [
  {
   "cell_type": "code",
   "execution_count": 101,
   "metadata": {},
   "outputs": [],
   "source": [
    "import os\n",
    "import math\n",
    "from sklearn.metrics import accuracy_score\n",
    "from tqdm import tqdm\n",
    "import matplotlib.pyplot as plt\n",
    "from sklearn.metrics import roc_curve, auc"
   ]
  },
  {
   "cell_type": "code",
   "execution_count": 70,
   "metadata": {
    "pycharm": {
     "name": "#%%\n"
    }
   },
   "outputs": [],
   "source": [
    "def read_data(index, n_gram):\n",
    "    pref = \"messages/part\"\n",
    "    directory = pref + str(index) + \"/\"\n",
    "    words_freq = [[] for i in range(2)]\n",
    "    files = os.listdir(directory)\n",
    "    for file in files:\n",
    "        type = 0\n",
    "        if \"legit\" in file:\n",
    "            type = 1\n",
    "        filename = directory + file\n",
    "        f = open(filename, \"r\")\n",
    "        n_grams = set()\n",
    "        for i, line in enumerate(f.readlines()):\n",
    "            arr = line.split()\n",
    "            if i == 0:\n",
    "                arr = arr[1:]\n",
    "            a = list(map(int, arr))\n",
    "            for j in range(len(a) - n_gram + 1):\n",
    "                n_grams.add(tuple(a[j:j + n_gram]))\n",
    "        words_freq[type].append(n_grams)\n",
    "    return words_freq"
   ]
  },
  {
   "cell_type": "code",
   "execution_count": 106,
   "metadata": {
    "pycharm": {
     "name": "#%%\n"
    }
   },
   "outputs": [],
   "source": [
    "def calc_p(alpha, cnt, total):\n",
    "    return (cnt + alpha) / (total + alpha * 2)\n",
    "\n",
    "\n",
    "def norm(scores, errors):\n",
    "    mx = max(scores)\n",
    "    ans = []\n",
    "    for i in range(len(scores)):\n",
    "        if scores[i]:\n",
    "            ans.append(math.exp(scores[i] - mx) * errors[i])\n",
    "        else:\n",
    "            ans.append(0)\n",
    "    return ans\n",
    "\n",
    "def bayes(errors, alpha, train_words, test_words, f):\n",
    "    N = len(train_words)\n",
    "    K = 2\n",
    "    cnt_types = [0 for i in range(K)]\n",
    "    words_freq = [dict() for i in range(K)]\n",
    "    words = set()\n",
    "    for i in range(K):\n",
    "        type = i\n",
    "        cnt_types[i] += len(train_words[i])\n",
    "        for j in range(len(train_words[i])):\n",
    "            for x in train_words[i][j]:\n",
    "                if words_freq[i].get(x) is None:\n",
    "                    words_freq[i][x] = 0\n",
    "                words_freq[i][x] += 1\n",
    "                words.add(x)\n",
    "\n",
    "    for i in range(K):\n",
    "        for x in words:\n",
    "            if words_freq[i].get(x) is None:\n",
    "                words_freq[i][x] = 0\n",
    "\n",
    "    words_probability = [dict() for i in range(K)]\n",
    "    for i in range(K):\n",
    "        t = words_freq[i].items()\n",
    "        for x in t:\n",
    "            words_probability[i][x[0]] = calc_p(alpha, x[1], cnt_types[i])\n",
    "\n",
    "    M = len(test_words)\n",
    "    ans = []\n",
    "    for i in range(M):\n",
    "        cur_words = test_words[i]\n",
    "        scores = []\n",
    "        for j in range(K):\n",
    "            t = words_probability[j].items()\n",
    "            res = 0\n",
    "            for x in t:\n",
    "                if x[0] in cur_words:\n",
    "                    res += math.log(x[1])\n",
    "                else:\n",
    "                    res += math.log(1 - x[1])\n",
    "            if cnt_types[j] == 0:\n",
    "                scores.append(0)\n",
    "            else:\n",
    "                res += math.log(cnt_types[j] / N)\n",
    "                scores.append(res)\n",
    "        scores = norm(scores, errors)\n",
    "        s = sum(scores)\n",
    "        for i in range(len(scores)):\n",
    "            scores[i] /= s\n",
    "        if f:\n",
    "            if scores[0] > scores[1]:\n",
    "                ans.append(0)\n",
    "            else:\n",
    "                ans.append(1)\n",
    "        else:\n",
    "            ans.append(scores[1])\n",
    "    return ans"
   ]
  },
  {
   "cell_type": "code",
   "execution_count": 107,
   "metadata": {
    "pycharm": {
     "name": "#%%\n"
    }
   },
   "outputs": [],
   "source": [
    "def get_train_test(w, ind):\n",
    "    w_train = [[], []]\n",
    "    w_test = [[], []]\n",
    "    for i in range(len(w)):\n",
    "        if i == ind:\n",
    "            for k in range(2):\n",
    "                for j in range(len(w[i][k])):\n",
    "                    w_test[k].append(w[i][k][j])\n",
    "        else:\n",
    "            for k in range(2):\n",
    "                 for j in range(len(w[i][k])):\n",
    "                    w_train[k].append(w[i][k][j])\n",
    "    return w_train, w_test\n",
    "\n",
    "def calc_score(errors, alpha, w):\n",
    "    sum = 0\n",
    "    for i in range(10):\n",
    "        w_train, w_test = get_train_test(w, i)\n",
    "        ans_real = []\n",
    "        test_real = []\n",
    "        for j in range(len(w_test)):\n",
    "            for t in range(len(w_test[j])):\n",
    "                test_real.append(w_test[j][t])\n",
    "                ans_real.append(j)\n",
    "        ans_pred = bayes(errors, alpha, w_train, test_real, 1)\n",
    "        sum += accuracy_score(ans_pred, ans_real)\n",
    "    return sum / 10\n",
    "\n",
    "def calc_y(errors, alpha, w):\n",
    "    sum = 0\n",
    "    total_ans_pred = []\n",
    "    total_ans_real = []\n",
    "    for i in range(10):\n",
    "        w_train, w_test = get_train_test(w, i)\n",
    "        ans_real = []\n",
    "        test_real = []\n",
    "        for j in range(len(w_test)):\n",
    "            for t in range(len(w_test[j])):\n",
    "                test_real.append(w_test[j][t])\n",
    "                ans_real.append(j)\n",
    "                total_ans_real.append(j)\n",
    "        ans_pred = bayes(errors, alpha, w_train, test_real, 0)\n",
    "        for j in ans_pred:\n",
    "            total_ans_pred.append(j)\n",
    "        \n",
    "    return total_ans_pred, total_ans_real "
   ]
  },
  {
   "cell_type": "code",
   "execution_count": 78,
   "metadata": {
    "pycharm": {
     "name": "#%%\n"
    }
   },
   "outputs": [
    {
     "name": "stderr",
     "output_type": "stream",
     "text": [
      "  0%|          | 0/3 [00:00<?, ?it/s]\n",
      "  0%|          | 0/4 [00:00<?, ?it/s]\u001B[A\n",
      "\n",
      "  0%|          | 0/5 [00:00<?, ?it/s]\u001B[A\u001B[A\n",
      "\n",
      " 20%|██        | 1/5 [00:25<01:42, 25.51s/it]\u001B[A\u001B[A"
     ]
    },
    {
     "name": "stdout",
     "output_type": "stream",
     "text": [
      "[1, 1] 1 0.9155963302752295\n"
     ]
    },
    {
     "name": "stderr",
     "output_type": "stream",
     "text": [
      "\n",
      "\n",
      " 40%|████      | 2/5 [00:51<01:16, 25.54s/it]\u001B[A\u001B[A"
     ]
    },
    {
     "name": "stdout",
     "output_type": "stream",
     "text": [
      "[1, 10] 1 0.9119266055045874\n"
     ]
    },
    {
     "name": "stderr",
     "output_type": "stream",
     "text": [
      "\n",
      "\n",
      " 60%|██████    | 3/5 [01:16<00:51, 25.55s/it]\u001B[A\u001B[A"
     ]
    },
    {
     "name": "stdout",
     "output_type": "stream",
     "text": [
      "[1, 100] 1 0.9045871559633027\n"
     ]
    },
    {
     "name": "stderr",
     "output_type": "stream",
     "text": [
      "\n",
      "\n",
      " 80%|████████  | 4/5 [01:42<00:25, 25.57s/it]\u001B[A\u001B[A"
     ]
    },
    {
     "name": "stdout",
     "output_type": "stream",
     "text": [
      "[1, 1000] 1 0.8954128440366974\n"
     ]
    },
    {
     "name": "stderr",
     "output_type": "stream",
     "text": [
      "\n",
      "\n",
      "100%|██████████| 5/5 [02:08<00:00, 25.64s/it]\u001B[A\u001B[A\n",
      "\n",
      "                                             \u001B[A\u001B[A\n",
      " 25%|██▌       | 1/4 [02:08<06:24, 128.13s/it]\u001B[A\n",
      "\n",
      "  0%|          | 0/5 [00:00<?, ?it/s]\u001B[A\u001B[A"
     ]
    },
    {
     "name": "stdout",
     "output_type": "stream",
     "text": [
      "[1, 100000] 1 0.8834862385321101\n"
     ]
    },
    {
     "name": "stderr",
     "output_type": "stream",
     "text": [
      "\n",
      "\n",
      " 20%|██        | 1/5 [00:26<01:44, 26.18s/it]\u001B[A\u001B[A"
     ]
    },
    {
     "name": "stdout",
     "output_type": "stream",
     "text": [
      "[1, 1] 0.0001 0.9660550458715598\n"
     ]
    },
    {
     "name": "stderr",
     "output_type": "stream",
     "text": [
      "\n",
      "\n",
      " 40%|████      | 2/5 [00:51<01:18, 26.01s/it]\u001B[A\u001B[A"
     ]
    },
    {
     "name": "stdout",
     "output_type": "stream",
     "text": [
      "[1, 10] 0.0001 0.9642201834862385\n"
     ]
    },
    {
     "name": "stderr",
     "output_type": "stream",
     "text": [
      "\n",
      "\n",
      " 60%|██████    | 3/5 [01:17<00:51, 25.87s/it]\u001B[A\u001B[A"
     ]
    },
    {
     "name": "stdout",
     "output_type": "stream",
     "text": [
      "[1, 100] 0.0001 0.9596330275229359\n"
     ]
    },
    {
     "name": "stderr",
     "output_type": "stream",
     "text": [
      "\n",
      "\n",
      " 80%|████████  | 4/5 [01:43<00:25, 25.82s/it]\u001B[A\u001B[A"
     ]
    },
    {
     "name": "stdout",
     "output_type": "stream",
     "text": [
      "[1, 1000] 0.0001 0.9577981651376148\n"
     ]
    },
    {
     "name": "stderr",
     "output_type": "stream",
     "text": [
      "\n",
      "\n",
      "100%|██████████| 5/5 [02:08<00:00, 25.73s/it]\u001B[A\u001B[A\n",
      "\n",
      "                                             \u001B[A\u001B[A\n",
      " 50%|█████     | 2/4 [04:16<04:16, 128.26s/it]\u001B[A\n",
      "\n",
      "  0%|          | 0/5 [00:00<?, ?it/s]\u001B[A\u001B[A"
     ]
    },
    {
     "name": "stdout",
     "output_type": "stream",
     "text": [
      "[1, 100000] 0.0001 0.9559633027522937\n"
     ]
    },
    {
     "name": "stderr",
     "output_type": "stream",
     "text": [
      "\n",
      "\n",
      " 20%|██        | 1/5 [00:25<01:42, 25.72s/it]\u001B[A\u001B[A"
     ]
    },
    {
     "name": "stdout",
     "output_type": "stream",
     "text": [
      "[1, 1] 1e-06 0.9678899082568808\n"
     ]
    },
    {
     "name": "stderr",
     "output_type": "stream",
     "text": [
      "\n",
      "\n",
      " 40%|████      | 2/5 [00:51<01:17, 25.72s/it]\u001B[A\u001B[A"
     ]
    },
    {
     "name": "stdout",
     "output_type": "stream",
     "text": [
      "[1, 10] 1e-06 0.9669724770642203\n"
     ]
    },
    {
     "name": "stderr",
     "output_type": "stream",
     "text": [
      "\n",
      "\n",
      " 60%|██████    | 3/5 [01:17<00:51, 25.84s/it]\u001B[A\u001B[A"
     ]
    },
    {
     "name": "stdout",
     "output_type": "stream",
     "text": [
      "[1, 100] 1e-06 0.9660550458715598\n"
     ]
    },
    {
     "name": "stderr",
     "output_type": "stream",
     "text": [
      "\n",
      "\n",
      " 80%|████████  | 4/5 [01:44<00:26, 26.05s/it]\u001B[A\u001B[A"
     ]
    },
    {
     "name": "stdout",
     "output_type": "stream",
     "text": [
      "[1, 1000] 1e-06 0.9642201834862387\n"
     ]
    },
    {
     "name": "stderr",
     "output_type": "stream",
     "text": [
      "\n",
      "\n",
      "100%|██████████| 5/5 [02:10<00:00, 26.30s/it]\u001B[A\u001B[A\n",
      "\n",
      "                                             \u001B[A\u001B[A\n",
      " 75%|███████▌  | 3/4 [06:27<02:09, 129.08s/it]\u001B[A\n",
      "\n",
      "  0%|          | 0/5 [00:00<?, ?it/s]\u001B[A\u001B[A"
     ]
    },
    {
     "name": "stdout",
     "output_type": "stream",
     "text": [
      "[1, 100000] 1e-06 0.9596330275229359\n"
     ]
    },
    {
     "name": "stderr",
     "output_type": "stream",
     "text": [
      "\n",
      "\n",
      " 20%|██        | 1/5 [00:25<01:42, 25.68s/it]\u001B[A\u001B[A"
     ]
    },
    {
     "name": "stdout",
     "output_type": "stream",
     "text": [
      "[1, 1] 1e-09 0.9706422018348624\n"
     ]
    },
    {
     "name": "stderr",
     "output_type": "stream",
     "text": [
      "\n",
      "\n",
      " 40%|████      | 2/5 [00:51<01:17, 25.84s/it]\u001B[A\u001B[A"
     ]
    },
    {
     "name": "stdout",
     "output_type": "stream",
     "text": [
      "[1, 10] 1e-09 0.9706422018348624\n"
     ]
    },
    {
     "name": "stderr",
     "output_type": "stream",
     "text": [
      "\n",
      "\n",
      " 60%|██████    | 3/5 [01:17<00:51, 25.80s/it]\u001B[A\u001B[A"
     ]
    },
    {
     "name": "stdout",
     "output_type": "stream",
     "text": [
      "[1, 100] 1e-09 0.9697247706422021\n"
     ]
    },
    {
     "name": "stderr",
     "output_type": "stream",
     "text": [
      "\n",
      "\n",
      " 80%|████████  | 4/5 [01:43<00:25, 25.93s/it]\u001B[A\u001B[A"
     ]
    },
    {
     "name": "stdout",
     "output_type": "stream",
     "text": [
      "[1, 1000] 1e-09 0.967889908256881\n"
     ]
    },
    {
     "name": "stderr",
     "output_type": "stream",
     "text": [
      "\n",
      "\n",
      "100%|██████████| 5/5 [02:09<00:00, 25.87s/it]\u001B[A\u001B[A\n",
      "\n",
      "                                             \u001B[A\u001B[A\n",
      "100%|██████████| 4/4 [08:37<00:00, 129.22s/it]\u001B[A\n",
      " 33%|███▎      | 1/3 [08:37<17:15, 517.84s/it]\u001B[A"
     ]
    },
    {
     "name": "stdout",
     "output_type": "stream",
     "text": [
      "[1, 100000] 1e-09 0.9660550458715598\n"
     ]
    },
    {
     "name": "stderr",
     "output_type": "stream",
     "text": [
      "\n",
      "  0%|          | 0/4 [00:00<?, ?it/s]\u001B[A\n",
      "\n",
      "  0%|          | 0/5 [00:00<?, ?it/s]\u001B[A\u001B[A\n",
      "\n",
      " 40%|████      | 2/5 [03:22<05:03, 101.00s/it]\u001B[A\u001B[A\n",
      "\n",
      "                                              \u001B[A\u001B[A\n",
      " 25%|██▌       | 1/4 [03:22<10:06, 202.01s/it]\u001B[A\n",
      "\n",
      "  0%|          | 0/5 [00:00<?, ?it/s]\u001B[A\u001B[A"
     ]
    },
    {
     "name": "stdout",
     "output_type": "stream",
     "text": [
      "[1, 10] 1 0.7788990825688074\n"
     ]
    },
    {
     "name": "stderr",
     "output_type": "stream",
     "text": [
      "\n",
      "\n",
      " 40%|████      | 2/5 [03:35<05:22, 107.58s/it]\u001B[A\u001B[A\n",
      "\n",
      "                                              \u001B[A\u001B[A\n",
      " 50%|█████     | 2/4 [06:57<06:51, 205.96s/it]\u001B[A\n",
      "\n",
      "  0%|          | 0/5 [00:00<?, ?it/s]\u001B[A\u001B[A"
     ]
    },
    {
     "name": "stdout",
     "output_type": "stream",
     "text": [
      "[1, 10] 0.0001 0.9550458715596329\n"
     ]
    },
    {
     "name": "stderr",
     "output_type": "stream",
     "text": [
      "\n",
      "\n",
      " 40%|████      | 2/5 [03:37<05:25, 108.60s/it]\u001B[A\u001B[A\n",
      "\n",
      "                                              \u001B[A\u001B[A\n",
      " 75%|███████▌  | 3/4 [10:34<03:29, 209.33s/it]\u001B[A\n",
      "\n",
      "  0%|          | 0/5 [00:00<?, ?it/s]\u001B[A\u001B[A"
     ]
    },
    {
     "name": "stdout",
     "output_type": "stream",
     "text": [
      "[1, 10] 1e-06 0.9688073394495413\n"
     ]
    },
    {
     "name": "stderr",
     "output_type": "stream",
     "text": [
      "\n",
      "\n",
      " 40%|████      | 2/5 [03:35<05:23, 107.77s/it]\u001B[A\u001B[A\n",
      "\n",
      "                                              \u001B[A\u001B[A\n",
      "100%|██████████| 4/4 [14:09<00:00, 211.20s/it]\u001B[A\n",
      " 67%|██████▋   | 2/3 [22:48<10:17, 617.74s/it]\u001B[A"
     ]
    },
    {
     "name": "stdout",
     "output_type": "stream",
     "text": [
      "[1, 10] 1e-09 0.9761467889908257\n"
     ]
    },
    {
     "name": "stderr",
     "output_type": "stream",
     "text": [
      "\n",
      "  0%|          | 0/4 [00:00<?, ?it/s]\u001B[A\n",
      "\n",
      "  0%|          | 0/5 [00:00<?, ?it/s]\u001B[A\u001B[A\n",
      "\n",
      " 40%|████      | 2/5 [06:20<09:30, 190.21s/it]\u001B[A\u001B[A\n",
      "\n",
      "                                              \u001B[A\u001B[A\n",
      " 25%|██▌       | 1/4 [06:20<19:01, 380.43s/it]\u001B[A\n",
      "\n",
      "  0%|          | 0/5 [00:00<?, ?it/s]\u001B[A\u001B[A"
     ]
    },
    {
     "name": "stdout",
     "output_type": "stream",
     "text": [
      "[1, 10] 1 0.6972477064220183\n"
     ]
    },
    {
     "name": "stderr",
     "output_type": "stream",
     "text": [
      "\n",
      "\n",
      " 40%|████      | 2/5 [06:32<09:48, 196.18s/it]\u001B[A\u001B[A\n",
      "\n",
      "                                              \u001B[A\u001B[A\n",
      " 50%|█████     | 2/4 [12:52<12:48, 384.01s/it]\u001B[A\n",
      "\n",
      "  0%|          | 0/5 [00:00<?, ?it/s]\u001B[A\u001B[A"
     ]
    },
    {
     "name": "stdout",
     "output_type": "stream",
     "text": [
      "[1, 10] 0.0001 0.9229357798165138\n"
     ]
    },
    {
     "name": "stderr",
     "output_type": "stream",
     "text": [
      "\n",
      "\n",
      " 40%|████      | 2/5 [06:30<09:45, 195.19s/it]\u001B[A\u001B[A\n",
      "\n",
      "                                              \u001B[A\u001B[A\n",
      " 75%|███████▌  | 3/4 [19:23<06:25, 385.92s/it]\u001B[A\n",
      "\n",
      "  0%|          | 0/5 [00:00<?, ?it/s]\u001B[A\u001B[A"
     ]
    },
    {
     "name": "stdout",
     "output_type": "stream",
     "text": [
      "[1, 10] 1e-06 0.9412844036697245\n"
     ]
    },
    {
     "name": "stderr",
     "output_type": "stream",
     "text": [
      "\n",
      "\n",
      " 40%|████      | 2/5 [06:19<09:29, 189.75s/it]\u001B[A\u001B[A\n",
      "\n",
      "                                              \u001B[A\u001B[A\n",
      "100%|██████████| 4/4 [25:42<00:00, 384.00s/it]\u001B[A\n",
      "100%|██████████| 3/3 [48:32<00:00, 970.84s/it]\u001B[A"
     ]
    },
    {
     "name": "stdout",
     "output_type": "stream",
     "text": [
      "[1, 10] 1e-09 0.9596330275229358\n",
      "0 (3, [1, 10], 1e-09)\n"
     ]
    },
    {
     "name": "stderr",
     "output_type": "stream",
     "text": [
      "\n"
     ]
    }
   ],
   "source": [
    "def get_best_params():\n",
    "    best_score = 0\n",
    "    best = (-1, -1, -1)\n",
    "    for n_gram in tqdm([1, 2, 3]):\n",
    "        w = []\n",
    "        for i in range(1, 11):\n",
    "            w.append(read_data(i, n_gram))\n",
    "            #print(len(w[i - 1][0]), len(w[i - 1][1]))\n",
    "        for alpha in tqdm([1, 1e-4, 1e-6, 1e-9], leave = False):\n",
    "            for lambda2 in tqdm([0, 1, 2, 3, 5], leave = False):\n",
    "                if (n_gram >= 2 and lambda2 != 1):\n",
    "                    continue\n",
    "                \n",
    "                lamdas = [1, 10 ** lambda2]\n",
    "                score = calc_score(lamdas, alpha, w)\n",
    "                print(lamdas, alpha, score)\n",
    "                if score > best_score:\n",
    "                    score = best_score\n",
    "                    best = (n_gram, lamdas, alpha)\n",
    "    print(score, best)\n",
    "get_best_params()\n"
   ]
  },
  {
   "cell_type": "code",
   "execution_count": 82,
   "metadata": {},
   "outputs": [],
   "source": [
    "def check_spam(errors, alpha, w):\n",
    "    sum = 0\n",
    "    for i in range(10):\n",
    "        if (i == 8):\n",
    "            continue\n",
    "        w_train, w_test = get_train_test(w, i)\n",
    "        test_real = []\n",
    "        ans_real = []\n",
    "        for j in range(len(w_test)):\n",
    "            for t in range(len(w_test[j])):\n",
    "                test_real.append(w_test[j][t])\n",
    "                ans_real.append(j)\n",
    "        ans_pred = bayes(errors, alpha, w_train, test_real)\n",
    "        for j in range(len(ans_pred)):\n",
    "            if ans_real[j] == 1 and ans_pred[j] == 0:\n",
    "                print(i)\n",
    "                return False\n",
    "                \n",
    "    return True"
   ]
  },
  {
   "cell_type": "code",
   "execution_count": 87,
   "metadata": {},
   "outputs": [],
   "source": [
    "def get_lambda():\n",
    "    w = []\n",
    "    for i in range(1, 11):\n",
    "        w.append(read_data(i, 2))\n",
    "    alpha = 1e-9\n",
    "    for power in range(180, 1, -1):\n",
    "        print(power)\n",
    "        if (check_spam([1, 10 ** power], alpha, w)):\n",
    "            print(power)\n",
    "            return power\n",
    "        print(\"WE LOSE\\n\")\n",
    "    "
   ]
  },
  {
   "cell_type": "code",
   "execution_count": 105,
   "metadata": {},
   "outputs": [
    {
     "data": {
      "image/png": "[encoded data removed]",
      "text/plain": [
       "<Figure size 432x288 with 1 Axes>"
      ]
     },
     "metadata": {
      "needs_background": "light"
     },
     "output_type": "display_data"
    }
   ],
   "source": [
    "def drow_lambdas():\n",
    "    pwr = 180\n",
    "    alpha = 1e-9\n",
    "    w = []\n",
    "    for i in range(1, 11):\n",
    "        w.append(read_data(i, 2))\n",
    "    pwrs = []\n",
    "    scores = []\n",
    "    for power in range(0, 180, 15):\n",
    "        lamdas = [1, 10 ** power]\n",
    "        score = calc_score(lamdas, alpha, w)\n",
    "        pwrs.append(power)\n",
    "        scores.append(score)\n",
    "    plt.plot(pwrs, scores)\n",
    "    plt.xlabel(\"10**power\")\n",
    "    plt.ylabel(\"score\")\n",
    "    plt.show()\n",
    "drow_lambdas()"
   ]
  },
  {
   "cell_type": "code",
   "execution_count": 109,
   "metadata": {},
   "outputs": [
    {
     "data": {
      "image/png": "[encoded data removed]",
      "text/plain": [
       "<Figure size 432x288 with 1 Axes>"
      ]
     },
     "metadata": {
      "needs_background": "light"
     },
     "output_type": "display_data"
    }
   ],
   "source": [
    "def drow_rcov():\n",
    "    alpha = 1e-9\n",
    "    w = []\n",
    "    for i in range(1, 11):\n",
    "        w.append(read_data(i, 2))\n",
    "    lambdas = [1, 10]\n",
    "    y_pred, y_true = calc_y(lambdas, alpha, w)\n",
    "    fpr, tpr, _ = roc_curve(y_true, y_pred)\n",
    "    roc_auc = auc(fpr, tpr)\n",
    "\n",
    "    plt.figure()\n",
    "    lw = 2\n",
    "    plt.plot(fpr, tpr, color='darkorange', lw=lw, label='ROC curve (area = %0.2f)' % roc_auc)\n",
    "    plt.plot([0, 1], [0, 1], color='navy', lw=lw, linestyle='--')\n",
    "    plt.xlim([-0.02, 1])\n",
    "    plt.ylim([0, 1.02])\n",
    "    plt.xlabel('False Positive Rate')\n",
    "    plt.ylabel('True Positive Rate')\n",
    "    plt.legend(loc=\"lower right\")\n",
    "    plt.show()\n",
    "drow_rcov()\n",
    "    "
   ]
  },
  {
   "cell_type": "code",
   "execution_count": null,
   "metadata": {
    "pycharm": {
     "name": "#%%\n"
    }
   },
   "outputs": [],
   "source": [
    "###"
   ]
  }
 ],
 "metadata": {
  "kernelspec": {
   "display_name": "Python 3",
   "language": "python",
   "name": "python3"
  },
  "language_info": {
   "codemirror_mode": {
    "name": "ipython",
    "version": 3
   },
   "file_extension": ".py",
   "mimetype": "text/x-python",
   "name": "python",
   "nbconvert_exporter": "python",
   "pygments_lexer": "ipython3",
   "version": "3.7.0"
  }
 },
 "nbformat": 4,
 "nbformat_minor": 1
}